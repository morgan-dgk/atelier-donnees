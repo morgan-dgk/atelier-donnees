{
 "cells": [
  {
   "attachments": {},
   "cell_type": "markdown",
   "metadata": {},
   "source": [
    "# Montréal-Python Workshop: Data Manipulation & Machine Learning\n",
    "\n",
    "This notebook contains my annotated solutions to the exercises discussed at the Montréal-Python workshop held on the 18th February 2023. \n",
    "\n",
    "<i>Ce cahier contient mes solution annotées pour l'atélier de Montréal-Python qui a eu lieu le 18 du février 2023</i>\n",
    "\n",
    "## TOC\n",
    "* [Exercise with Pandas / <i>Exercice de Pandas</i>](#exercice-de-pandas)\n",
    "* [Exercise with Numpy / <i>Exercice de NumPy</i>](#exercice-de-numpy)\n",
    "* [Machine Learning Exercise / <i>Exercice d'Apprentissage Automatic</i>](#exercice-d-apprentissage)"
   ]
  },
  {
   "attachments": {},
   "cell_type": "markdown",
   "metadata": {},
   "source": [
    "# Exercise 1 <a class=\"anchor\" id=\"exercice-de-pandas\"></a>\n",
    "\n",
    "The goal of this [exercise](https://colab.research.google.com/drive/1QRNus1YCtKPAjlNT165i0NtJ3Qt2oZvr#scrollTo=kycZrfZPXa3b) was to identify the Montréal neighbourhood with the lowest number of Birch trees. [Data on public trees](https://donnees.montreal.ca/ville-de-montreal/arbres) is provided freely by the City of Montréal.\n",
    "\n",
    "<i>Le but de cet [exercise](https://colab.research.google.com/drive/1QRNus1YCtKPAjlNT165i0NtJ3Qt2oZvr#scrollTo=kycZrfZPXa3b) était d'identifier l'arrondissement de Montréal ayant le moins de bouleaux. [Les données sur les arbres publics](https://donnees.montreal.ca/ville-de-montreal/arbres) sont fournies gratuitement par la ville.</i>\n",
    "\n",
    "### Data Import and Cleaning"
   ]
  },
  {
   "cell_type": "code",
   "execution_count": 3,
   "metadata": {},
   "outputs": [
    {
     "name": "stderr",
     "output_type": "stream",
     "text": [
      "/tmp/ipykernel_94909/3343591233.py:11: DtypeWarning: Columns (4,5,17,18,19) have mixed types. Specify dtype option on import or set low_memory=False.\n",
      "  tree_df = pd.read_csv(DATA_URL)\n"
     ]
    },
    {
     "data": {
      "text/plain": [
       "'rows, columns: (336649, 22)'"
      ]
     },
     "metadata": {},
     "output_type": "display_data"
    },
    {
     "data": {
      "text/plain": [
       "'column types:'"
      ]
     },
     "metadata": {},
     "output_type": "display_data"
    },
    {
     "data": {
      "text/plain": [
       "INV_TYPE            object\n",
       "EMP_NO               int64\n",
       "ARROND               int64\n",
       "ARROND_NOM          object\n",
       "Rue                 object\n",
       "COTE                object\n",
       "No_civique         float64\n",
       "Emplacement         object\n",
       "Coord_X            float64\n",
       "Coord_Y            float64\n",
       "SIGLE               object\n",
       "Essence_latin       object\n",
       "Essence_fr          object\n",
       "ESSENCE_ANG         object\n",
       "DHP                float64\n",
       "Date_releve         object\n",
       "Date_plantation     object\n",
       "LOCALISATION        object\n",
       "CODE_PARC           object\n",
       "NOM_PARC            object\n",
       "Longitude          float64\n",
       "Latitude           float64\n",
       "dtype: object"
      ]
     },
     "metadata": {},
     "output_type": "display_data"
    },
    {
     "data": {
      "text/plain": [
       "inv_type                0\n",
       "emp_no                  0\n",
       "arrond                  0\n",
       "arrond_nom              0\n",
       "rue                108314\n",
       "cote               108314\n",
       "no_civique         157699\n",
       "emplacement             0\n",
       "coord_x                 0\n",
       "coord_y                 3\n",
       "sigle                   0\n",
       "essence_latin           0\n",
       "essence_fr              0\n",
       "essence_ang             0\n",
       "dhp                   637\n",
       "date_releve           637\n",
       "date_plantation    165660\n",
       "localisation       108613\n",
       "code_parc          228335\n",
       "nom_parc           228335\n",
       "longitude               3\n",
       "latitude                3\n",
       "dtype: int64"
      ]
     },
     "execution_count": 3,
     "metadata": {},
     "output_type": "execute_result"
    }
   ],
   "source": [
    "import pandas as pd\n",
    "\n",
    "DATA_URL = r\"https://data.montreal.ca/dataset/b89fd27d-4b49-461b-8e54-fa2b34a628c4/resource/64e28fe6-ef37-437a-972d-d1d3f1f7d891/download/arbres-publics.csv\"\n",
    "\n",
    "# Downloading the data takes some time (file size is approx. 100mb). Serialize the data to avoid downloading it on every run.\n",
    "\n",
    "try:\n",
    "    # File -> DataFrame\n",
    "    tree_df = pd.read_pickle(\"./montreal-trees.pickle\")\n",
    "except FileNotFoundError:\n",
    "    tree_df = pd.read_csv(DATA_URL)\n",
    "    # DataFrame -> File\n",
    "    # Avoid compressing file as space is generally cheaper than time.\n",
    "    pd.to_pickle(tree_df, \"./montreal-trees.pickle\", compression=None)\n",
    "\n",
    "#--- Basic EDA---#\n",
    "\n",
    "# Check the number of rows and columns, as well as column names and data types\n",
    "\n",
    "display(f\"rows, columns: {tree_df.shape}\", \"column types:\", tree_df.dtypes)\n",
    "\n",
    "# Correct inconsistent capitalisation of column names to make analyse easier\n",
    "\n",
    "tree_df.rename(str.lower, axis = \"columns\", inplace = True)\n",
    "\n",
    "# DataFrame -> DataFrame -> Series\n",
    "# Count missing values for each column \n",
    "\n",
    "tree_df.isna().sum()"
   ]
  },
  {
   "attachments": {},
   "cell_type": "markdown",
   "metadata": {},
   "source": [
    "### Main Solution"
   ]
  },
  {
   "cell_type": "code",
   "execution_count": 13,
   "metadata": {},
   "outputs": [
    {
     "data": {
      "text/html": [
       "<div>\n",
       "<style scoped>\n",
       "    .dataframe tbody tr th:only-of-type {\n",
       "        vertical-align: middle;\n",
       "    }\n",
       "\n",
       "    .dataframe tbody tr th {\n",
       "        vertical-align: top;\n",
       "    }\n",
       "\n",
       "    .dataframe thead th {\n",
       "        text-align: right;\n",
       "    }\n",
       "</style>\n",
       "<table border=\"1\" class=\"dataframe\">\n",
       "  <thead>\n",
       "    <tr style=\"text-align: right;\">\n",
       "      <th></th>\n",
       "      <th>count</th>\n",
       "    </tr>\n",
       "    <tr>\n",
       "      <th>arrond_nom</th>\n",
       "      <th></th>\n",
       "    </tr>\n",
       "  </thead>\n",
       "  <tbody>\n",
       "    <tr>\n",
       "      <th>ville-marie</th>\n",
       "      <td>12</td>\n",
       "    </tr>\n",
       "    <tr>\n",
       "      <th>le plateau-mont-royal</th>\n",
       "      <td>34</td>\n",
       "    </tr>\n",
       "    <tr>\n",
       "      <th>saint-laurent</th>\n",
       "      <td>54</td>\n",
       "    </tr>\n",
       "    <tr>\n",
       "      <th>saint-léonard</th>\n",
       "      <td>56</td>\n",
       "    </tr>\n",
       "    <tr>\n",
       "      <th>villeray-saint-michel - parc-extension</th>\n",
       "      <td>71</td>\n",
       "    </tr>\n",
       "    <tr>\n",
       "      <th>verdun</th>\n",
       "      <td>115</td>\n",
       "    </tr>\n",
       "    <tr>\n",
       "      <th>le sud-ouest</th>\n",
       "      <td>147</td>\n",
       "    </tr>\n",
       "    <tr>\n",
       "      <th>lasalle</th>\n",
       "      <td>199</td>\n",
       "    </tr>\n",
       "    <tr>\n",
       "      <th>pierrefonds - roxboro</th>\n",
       "      <td>220</td>\n",
       "    </tr>\n",
       "    <tr>\n",
       "      <th>ahuntsic - cartierville</th>\n",
       "      <td>246</td>\n",
       "    </tr>\n",
       "    <tr>\n",
       "      <th>mercier - hochelaga-maisonneuve</th>\n",
       "      <td>261</td>\n",
       "    </tr>\n",
       "    <tr>\n",
       "      <th>côte-des-neiges - notre-dame-de-grâce</th>\n",
       "      <td>265</td>\n",
       "    </tr>\n",
       "    <tr>\n",
       "      <th>rosemont - la petite-patrie</th>\n",
       "      <td>282</td>\n",
       "    </tr>\n",
       "    <tr>\n",
       "      <th>rivière-des-prairies - pointe-aux-trembles</th>\n",
       "      <td>358</td>\n",
       "    </tr>\n",
       "  </tbody>\n",
       "</table>\n",
       "</div>"
      ],
      "text/plain": [
       "                                            count\n",
       "arrond_nom                                       \n",
       "ville-marie                                    12\n",
       "le plateau-mont-royal                          34\n",
       "saint-laurent                                  54\n",
       "saint-léonard                                  56\n",
       "villeray-saint-michel - parc-extension         71\n",
       "verdun                                        115\n",
       "le sud-ouest                                  147\n",
       "lasalle                                       199\n",
       "pierrefonds - roxboro                         220\n",
       "ahuntsic - cartierville                       246\n",
       "mercier - hochelaga-maisonneuve               261\n",
       "côte-des-neiges - notre-dame-de-grâce         265\n",
       "rosemont - la petite-patrie                   282\n",
       "rivière-des-prairies - pointe-aux-trembles    358"
      ]
     },
     "execution_count": 13,
     "metadata": {},
     "output_type": "execute_result"
    }
   ],
   "source": [
    "# DataFrame -> DataFrame\n",
    "# Extract only data required to determine which neighbourhood has the lowest number of Birch trees\n",
    "\n",
    "cols = ['arrond_nom', \"essence_fr\", \"essence_latin\", \"essence_ang\"]\n",
    "tree_subset = tree_df.loc[:, cols].apply(lambda x: x.str.lower())\n",
    "\n",
    "# Verify that classification as birch is consistent across columns.\n",
    "# Doing so will allow simplification of filter required to extract\n",
    "# relevant dataw\n",
    "\n",
    "en_index = tree_df[\"essence_ang\"].str.contains(\"birch\").index\n",
    "fr_index = tree_df[\"essence_fr\"].str.contains(\"bouleau\").index\n",
    "latin_index = tree_df[\"essence_latin\"].str.contains(\"betula\").index\n",
    "\n",
    "\n",
    "if not(all(en_index == fr_index) and all(fr_index == latin_index)):\n",
    "    warnings.warn(\"Classification is not consistent\", stacklevel = 2)\n",
    "\n",
    "\n",
    "df_birch = tree_subset.loc[tree_subset[\"essence_fr\"].str.contains(\"bouleau\"), \"arrond_nom\"]\n",
    "\n",
    "type(df_birch)\n",
    "\n",
    "(df_birch.groupby(df_birch)\n",
    "    .pipe(lambda grp: grp.count())\n",
    "    .pipe(lambda grp: grp.sort_values())\n",
    ").to_frame(name = \"count\")\n",
    "\n"
   ]
  }
 ],
 "metadata": {
  "language_info": {
   "name": "python"
  },
  "orig_nbformat": 4
 },
 "nbformat": 4,
 "nbformat_minor": 2
}
